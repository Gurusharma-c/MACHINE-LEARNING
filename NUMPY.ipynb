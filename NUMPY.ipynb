{
  "cells": [
    {
      "cell_type": "code",
      "execution_count": null,
      "id": "7dc90093",
      "metadata": {
        "id": "7dc90093",
        "outputId": "655b55b7-df5b-41c1-efcd-718a628115e1"
      },
      "outputs": [
        {
          "name": "stdout",
          "output_type": "stream",
          "text": [
            "[1 2 3 4 5]\n"
          ]
        }
      ],
      "source": [
        "import numpy as np\n",
        "arr=np.array([1,2,3,4,5])\n",
        "print(arr)"
      ]
    },
    {
      "cell_type": "code",
      "execution_count": null,
      "id": "bedfc3e3",
      "metadata": {
        "id": "bedfc3e3",
        "outputId": "022bf3ee-3052-4b4d-ff6e-17dd5043b6be"
      },
      "outputs": [
        {
          "name": "stdout",
          "output_type": "stream",
          "text": [
            "Size of each element of list in bytes:  48\n"
          ]
        }
      ],
      "source": [
        "import sys\n",
        "S= range(1000)\n",
        "print(\"Size of each element of list in bytes: \", sys.getsizeof(S))"
      ]
    },
    {
      "cell_type": "code",
      "execution_count": null,
      "id": "482c52e9",
      "metadata": {
        "id": "482c52e9",
        "outputId": "ee5ca1c5-6373-45a6-adfc-add4bdbdaf91"
      },
      "outputs": [
        {
          "name": "stdout",
          "output_type": "stream",
          "text": [
            "Size of the whole list in bytes:  48000\n"
          ]
        }
      ],
      "source": [
        "print(\"Size of the whole list in bytes: \" , sys.getsizeof(S)*len (S))\n"
      ]
    },
    {
      "cell_type": "code",
      "execution_count": null,
      "id": "f42a4166",
      "metadata": {
        "id": "f42a4166",
        "outputId": "5eb682e7-e30e-49f8-9e51-f2e159e8cfe9"
      },
      "outputs": [
        {
          "name": "stdout",
          "output_type": "stream",
          "text": [
            "Size of each element of the Numpy array in bytes:  4\n",
            "Size of the whole Numpy array in bytes:  4000\n"
          ]
        }
      ],
      "source": [
        "D= np.arange(1000)\n",
        "print(\"Size of each element of the Numpy array in bytes: \",D.itemsize)\n",
        "\n",
        "print(\"Size of the whole Numpy array in bytes: \",D.size*D.itemsize)\n"
      ]
    },
    {
      "cell_type": "code",
      "execution_count": null,
      "id": "dfde29bc",
      "metadata": {
        "id": "dfde29bc",
        "outputId": "626b48fd-7c83-4dc3-e579-237173503493"
      },
      "outputs": [
        {
          "name": "stdout",
          "output_type": "stream",
          "text": [
            "42\n"
          ]
        }
      ],
      "source": [
        "arr = np.array(42)\n",
        "print(arr)\n"
      ]
    },
    {
      "cell_type": "code",
      "execution_count": null,
      "id": "088e5e4a",
      "metadata": {
        "id": "088e5e4a",
        "outputId": "26f8df1f-ea12-4d38-9f1a-a8ccc70d1b22"
      },
      "outputs": [
        {
          "name": "stdout",
          "output_type": "stream",
          "text": [
            "[[1 2 3]\n",
            " [4 5 6]]\n"
          ]
        }
      ],
      "source": [
        "arr = np.array([[1, 2, 3], [4, 5, 6]])\n",
        "print(arr)\n"
      ]
    },
    {
      "cell_type": "code",
      "execution_count": null,
      "id": "c55f453d",
      "metadata": {
        "id": "c55f453d",
        "outputId": "2f382cf2-d983-4246-df88-be41318b414d"
      },
      "outputs": [
        {
          "name": "stdout",
          "output_type": "stream",
          "text": [
            "[[[1 2 3]\n",
            "  [4 5 6]]\n",
            "\n",
            " [[1 2 3]\n",
            "  [4 5 6]]]\n"
          ]
        }
      ],
      "source": [
        "arr = np.array([[[1, 2, 3], [4, 5, 6]], [[1, 2, 3], [4, 5, 6]]])\n",
        "print(arr)"
      ]
    },
    {
      "cell_type": "code",
      "execution_count": null,
      "id": "99ae7111",
      "metadata": {
        "id": "99ae7111",
        "outputId": "0907c15b-421f-4d53-bf4d-ef4da260986d"
      },
      "outputs": [
        {
          "name": "stdout",
          "output_type": "stream",
          "text": [
            "[[0. 0.]\n",
            " [0. 0.]\n",
            " [0. 0.]\n",
            " [0. 0.]\n",
            " [0. 0.]]\n"
          ]
        }
      ],
      "source": [
        "zeros_arr = np.zeros((5,2))\n",
        "eros_arr = np.zeros(5)\n",
        "print(zeros_arr)\n"
      ]
    },
    {
      "cell_type": "code",
      "execution_count": null,
      "id": "de450b8e",
      "metadata": {
        "id": "de450b8e",
        "outputId": "faa79f35-0907-4870-c89b-dcd010a06079"
      },
      "outputs": [
        {
          "name": "stdout",
          "output_type": "stream",
          "text": [
            "[[0. 0. 0.]\n",
            " [0. 0. 0.]]\n"
          ]
        }
      ],
      "source": [
        "zeros_arr = np.zeros((2,3))\n",
        "print(zeros_arr)"
      ]
    },
    {
      "cell_type": "code",
      "execution_count": null,
      "id": "c8a7facb",
      "metadata": {
        "id": "c8a7facb",
        "outputId": "c957460f-c260-41f8-fe9e-7b7b22bba9e6"
      },
      "outputs": [
        {
          "name": "stdout",
          "output_type": "stream",
          "text": [
            "Data type of the array:  float64\n"
          ]
        }
      ],
      "source": [
        "print(\"Data type of the array: \", zeros_arr.dtype)\n"
      ]
    },
    {
      "cell_type": "code",
      "execution_count": null,
      "id": "0c2ff4e4",
      "metadata": {
        "id": "0c2ff4e4",
        "outputId": "9e800a09-3d1c-40df-d2af-28278a5251f7"
      },
      "outputs": [
        {
          "name": "stdout",
          "output_type": "stream",
          "text": [
            "\n",
            "Array of zeros with integer elements: \n",
            " [[0 0 0]\n",
            " [0 0 0]\n",
            " [0 0 0]]\n"
          ]
        }
      ],
      "source": [
        "zeros_arr_int = np.zeros((3,3), dtype=np.int16)\n",
        "print(\"\\nArray of zeros with integer elements: \\n\", zeros_arr_int)"
      ]
    },
    {
      "cell_type": "code",
      "execution_count": null,
      "id": "06090445",
      "metadata": {
        "id": "06090445",
        "outputId": "5ed45143-5295-4045-e4a1-4636b4467352"
      },
      "outputs": [
        {
          "name": "stdout",
          "output_type": "stream",
          "text": [
            "[1. 1. 1. 1. 1. 1.]\n"
          ]
        }
      ],
      "source": [
        "ones_arr = np.ones(6)\n",
        "print(ones_arr)\n"
      ]
    },
    {
      "cell_type": "code",
      "execution_count": null,
      "id": "3299a562",
      "metadata": {
        "id": "3299a562",
        "outputId": "21d0c446-42f4-4a36-d196-b2e2d9aa60f4"
      },
      "outputs": [
        {
          "name": "stdout",
          "output_type": "stream",
          "text": [
            "\n",
            "Data type of the array:  float64\n"
          ]
        }
      ],
      "source": [
        "print(\"\\nData type of the array: \", ones_arr.dtype)"
      ]
    },
    {
      "cell_type": "code",
      "execution_count": null,
      "id": "7826e59c",
      "metadata": {
        "id": "7826e59c",
        "outputId": "c81363cd-92ef-4660-b645-4549f83abf0a"
      },
      "outputs": [
        {
          "name": "stdout",
          "output_type": "stream",
          "text": [
            "[[1. 1.]\n",
            " [1. 1.]\n",
            " [1. 1.]]\n"
          ]
        }
      ],
      "source": [
        "empty_arr = np.empty((3,2))\n",
        "print(empty_arr)\n"
      ]
    },
    {
      "cell_type": "code",
      "execution_count": null,
      "id": "28f7fef8",
      "metadata": {
        "id": "28f7fef8",
        "outputId": "f6555ac4-045e-4b93-96bf-40eb38e094a6"
      },
      "outputs": [
        {
          "name": "stdout",
          "output_type": "stream",
          "text": [
            "\n",
            "Data type of the array:  float64\n"
          ]
        }
      ],
      "source": [
        "print(\"\\nData type of the array: \", empty_arr.dtype)\n"
      ]
    },
    {
      "cell_type": "code",
      "execution_count": null,
      "id": "161f092b",
      "metadata": {
        "id": "161f092b",
        "outputId": "1d62e120-35b2-4d91-893a-6f8536b8d226"
      },
      "outputs": [
        {
          "name": "stdout",
          "output_type": "stream",
          "text": [
            "[[1. 0. 0.]\n",
            " [0. 1. 0.]\n",
            " [0. 0. 1.]]\n"
          ]
        }
      ],
      "source": [
        "identity_matrix = np.eye (3)\n",
        "print(identity_matrix)"
      ]
    },
    {
      "cell_type": "code",
      "execution_count": null,
      "id": "afc0bc15",
      "metadata": {
        "id": "afc0bc15",
        "outputId": "80950041-924e-4a1d-ed55-0829c7afbb30"
      },
      "outputs": [
        {
          "name": "stdout",
          "output_type": "stream",
          "text": [
            "\n",
            " [[1. 0. 0. 0.]\n",
            " [0. 1. 0. 0.]\n",
            " [0. 0. 1. 0.]\n",
            " [0. 0. 0. 1.]]\n"
          ]
        }
      ],
      "source": [
        "identity_matrix = np. eye (4)\n",
        "print(\"\\n\", identity_matrix)"
      ]
    },
    {
      "cell_type": "code",
      "execution_count": null,
      "id": "e027be71",
      "metadata": {
        "id": "e027be71",
        "outputId": "e83ebfd6-bfd6-4f6a-d3b1-bdf5b612ecf6"
      },
      "outputs": [
        {
          "name": "stdout",
          "output_type": "stream",
          "text": [
            "float64\n",
            "int32\n"
          ]
        }
      ],
      "source": [
        "arr1 = np.array([1, 2, 3], dtype=np. float64)\n",
        "arr2 = np.array([1, 2, 3], dtype=np.int32)\n",
        "print(arr1.dtype)\n",
        "print(arr2.dtype)"
      ]
    },
    {
      "cell_type": "code",
      "execution_count": null,
      "id": "7799de7b",
      "metadata": {
        "id": "7799de7b",
        "outputId": "94b1bf21-aba1-47e0-fd31-6415dbedbfc5"
      },
      "outputs": [
        {
          "name": "stdout",
          "output_type": "stream",
          "text": [
            "Before converting:  [1 2 3] int32\n",
            "After converting:  [1. 2. 3.] float32\n"
          ]
        }
      ],
      "source": [
        "arr = np.array([1, 2, 3])\n",
        "print(\"Before converting: \", arr, arr.dtype)\n",
        "new_arr = arr.astype('f')\n",
        "print(\"After converting: \", new_arr, new_arr.dtype)\n",
        "\n"
      ]
    },
    {
      "cell_type": "code",
      "execution_count": null,
      "id": "d359b49f",
      "metadata": {
        "id": "d359b49f",
        "outputId": "244ab825-0b3f-4671-8568-2f6e98f4d290"
      },
      "outputs": [
        {
          "name": "stdout",
          "output_type": "stream",
          "text": [
            "array 1\n",
            " [0 1 2 3 4 5 6 7 8 9] int32\n",
            "Array 2 \n",
            " [ 0.69139012  2.14004933  0.09039062  1.44776283 -0.15457195  0.45294886\n",
            " -1.93178326  0.2545211  -0.09414234  0.36510017] float64\n"
          ]
        }
      ],
      "source": [
        "arr1 = np.arange(10)\n",
        "arr2 = np.random. randn (10)\n",
        "print(\"array 1\\n\", arr1, arr1.dtype)\n",
        "print(\"Array 2 \\n\", arr2, arr2.dtype)\n"
      ]
    },
    {
      "cell_type": "code",
      "execution_count": null,
      "id": "4d9bbe34",
      "metadata": {
        "id": "4d9bbe34",
        "outputId": "11aadc6f-c6ce-46fa-9666-ff1671e3f1bd"
      },
      "outputs": [
        {
          "name": "stdout",
          "output_type": "stream",
          "text": [
            "New Array \n",
            " [0. 1. 2. 3. 4. 5. 6. 7. 8. 9.] float64\n"
          ]
        }
      ],
      "source": [
        "new_arr = arr1.astype (arr2.dtype)\n",
        "arr1.astype(arr2.dtype)\n",
        "print(\"New Array \\n\", new_arr, new_arr.dtype)\n"
      ]
    },
    {
      "cell_type": "code",
      "execution_count": null,
      "id": "4256f78c",
      "metadata": {
        "id": "4256f78c",
        "outputId": "5411a315-566e-41cf-cc37-70a48439904d"
      },
      "outputs": [
        {
          "name": "stdout",
          "output_type": "stream",
          "text": [
            "['hello' 'world' 'numpy']\n"
          ]
        }
      ],
      "source": [
        "str_arr = np.array(['hello', 'world', 'numpy'])\n",
        "print(str_arr)\n"
      ]
    },
    {
      "cell_type": "code",
      "execution_count": null,
      "id": "43fe56f9",
      "metadata": {
        "id": "43fe56f9",
        "outputId": "ca0c7724-67f7-42ef-f4c0-7b524832ba6c"
      },
      "outputs": [
        {
          "name": "stdout",
          "output_type": "stream",
          "text": [
            "[ 6.  8. 10. 12.]\n",
            "[-4. -4. -4. -4.]\n",
            "[ 6.  8. 10. 12.]\n",
            "[0.2        0.33333333 0.42857143 0.5       ]\n",
            "[1.0000e+00 6.4000e+01 2.1870e+03 6.5536e+04]\n"
          ]
        }
      ],
      "source": [
        "import numpy as np\n",
        "a = np.array([1., 2., 3., 4.])\n",
        "b = np.array([5., 6., 7., 8.])\n",
        "print(a + b)\n",
        "print(a - b)\n",
        "print(a + b)\n",
        "print(a/b)\n",
        "print(a ** b)\n"
      ]
    },
    {
      "cell_type": "code",
      "execution_count": null,
      "id": "bdbf5f2f",
      "metadata": {
        "id": "bdbf5f2f",
        "outputId": "890b7fa3-583b-4f95-f114-f67e0b74eef7"
      },
      "outputs": [
        {
          "name": "stdout",
          "output_type": "stream",
          "text": [
            "[[ 0  1  2]\n",
            " [ 3  4  5]\n",
            " [ 6  7  8]\n",
            " [ 9 10 11]]\n",
            "\n",
            " [[ 0  4  8]\n",
            " [ 1  5  9]\n",
            " [ 2  6 10]\n",
            " [ 3  7 11]]\n"
          ]
        }
      ],
      "source": [
        "import numpy as np\n",
        "arr = np.arange(12)\n",
        "newarr = arr.reshape(4, 3)\n",
        "print(newarr)\n",
        "newarr = arr.reshape((4, 3), order='F')\n",
        "print(\"\\n\", newarr)"
      ]
    },
    {
      "cell_type": "code",
      "execution_count": null,
      "id": "e4b25034",
      "metadata": {
        "id": "e4b25034",
        "outputId": "f192d487-8de1-4c74-c910-21a19c9a40da"
      },
      "outputs": [
        {
          "name": "stdout",
          "output_type": "stream",
          "text": [
            "[[ 1  2  3  4  9 10]\n",
            " [ 5  6  7  8 11 12]]\n",
            "\n",
            " [[[ 1  2]\n",
            "  [ 3  4]]\n",
            "\n",
            " [[ 9 10]\n",
            "  [ 5  6]]\n",
            "\n",
            " [[ 7  8]\n",
            "  [11 12]]]\n",
            "\n",
            " reshape (3,-1) \n",
            " [[ 1  2  3  4]\n",
            " [ 9 10  5  6]\n",
            " [ 7  8 11 12]]\n"
          ]
        }
      ],
      "source": [
        "import numpy as np\n",
        "arr = np.array([[1, 2, 3, 4,9,10], [5, 6, 7, 8,11,12]])\n",
        "print(arr)\n",
        "newarr = arr. reshape (3, 2, 2)\n",
        "print(\"\\n\", newarr)\n",
        "newarr1 = newarr.reshape(3, -1)\n",
        "print(\"\\n reshape (3,-1) \\n\", newarr1)\n"
      ]
    },
    {
      "cell_type": "code",
      "execution_count": null,
      "id": "c411b344",
      "metadata": {
        "id": "c411b344",
        "outputId": "8fdd3eb3-fe0f-4267-9a4b-277a3b40ef12"
      },
      "outputs": [
        {
          "name": "stdout",
          "output_type": "stream",
          "text": [
            "Original array:\n",
            " [[10 20]\n",
            " [30 40]]\n"
          ]
        }
      ],
      "source": [
        "original_array = np.array([[10, 20], [30, 40]])\n",
        "print(\"Original array:\\n\", original_array)"
      ]
    },
    {
      "cell_type": "code",
      "execution_count": null,
      "id": "538fbcd1",
      "metadata": {
        "id": "538fbcd1",
        "outputId": "fff34440-381d-45aa-c534-9a5932db9ed4"
      },
      "outputs": [
        {
          "name": "stdout",
          "output_type": "stream",
          "text": [
            "Flattened array: \n",
            " [999  20  30  40]\n",
            "Original array: \n",
            " [[10 20]\n",
            " [30 40]]\n"
          ]
        }
      ],
      "source": [
        "flattened_array = original_array.flatten()\n",
        "flattened_array[0] = 999\n",
        "print(\"Flattened array: \\n\", flattened_array)\n",
        "print(\"Original array: \\n\", original_array)\n",
        "\n"
      ]
    },
    {
      "cell_type": "code",
      "execution_count": null,
      "id": "f8130fe9",
      "metadata": {
        "id": "f8130fe9",
        "outputId": "5e28d33b-0fa4-41f1-dc86-6bd0c338eb40"
      },
      "outputs": [
        {
          "name": "stdout",
          "output_type": "stream",
          "text": [
            "Raveled array: \n",
            " [10 20 30 40]\n",
            "Original array:\n",
            " [[10 20]\n",
            " [30 40]]\n"
          ]
        }
      ],
      "source": [
        "raveled_array =  original_array.ravel()\n",
        "flattened_array[0] = 888\n",
        "print(\"Raveled array: \\n\", raveled_array)\n",
        "print(\"Original array:\\n\", original_array)\n",
        "\n"
      ]
    },
    {
      "cell_type": "code",
      "execution_count": null,
      "id": "8ad09f14",
      "metadata": {
        "id": "8ad09f14",
        "outputId": "018efdc8-e0d9-4366-ae75-a3af6325d88c"
      },
      "outputs": [
        {
          "name": "stdout",
          "output_type": "stream",
          "text": [
            "Greater than: \n",
            " [[False  True]\n",
            " [False False]]\n",
            "\n",
            "Less than: \n",
            " [[ True False]\n",
            " [False  True]]\n",
            "\n",
            "Equal to: \n",
            " [[False False]\n",
            " [ True False]]\n"
          ]
        }
      ],
      "source": [
        "arr1 = np.array([[1, 2], [3, 4]])\n",
        "arr2 = np.array([[2, 1], [3, 5]])\n",
        "greater_than = arr1 > arr2\n",
        "less_than = arr1 < arr2\n",
        "equal_to = arr1 == arr2\n",
        "print(\"Greater than: \\n\", greater_than)\n",
        "print(\"\\nLess than: \\n\", less_than)\n",
        "print(\"\\nEqual to: \\n\", equal_to)\n"
      ]
    },
    {
      "cell_type": "code",
      "execution_count": null,
      "id": "212f8b3b",
      "metadata": {
        "id": "212f8b3b",
        "outputId": "b33943a0-2643-43c1-e906-5192c9893c12"
      },
      "outputs": [
        {
          "name": "stdout",
          "output_type": "stream",
          "text": [
            "\n",
            "Array-wise comparison 1: True\n",
            "Array-wise comparison 2: False\n"
          ]
        }
      ],
      "source": [
        "arr3 = np.array([1, 2, 3])\n",
        "arr4 = np.array([1, 2, 3])\n",
        "arr5 = np.array([1, 2, 4])\n",
        "result1= np.array_equal(arr3, arr4)\n",
        "result2 = np.array_equal(arr3, arr5)\n",
        "print(\"\\nArray-wise comparison 1:\", result1)\n",
        "print(\"Array-wise comparison 2:\", result2)"
      ]
    },
    {
      "cell_type": "code",
      "execution_count": null,
      "id": "30885c6f",
      "metadata": {
        "id": "30885c6f",
        "outputId": "e7c1205b-f419-49b7-ff33-56b5f7801170"
      },
      "outputs": [
        {
          "name": "stdout",
          "output_type": "stream",
          "text": [
            "x=  [0 1 2 3 4 5 6 7 8 9]\n"
          ]
        }
      ],
      "source": [
        "x = np.arange(10)\n",
        "print(\"x= \",x)\n"
      ]
    },
    {
      "cell_type": "code",
      "execution_count": null,
      "id": "720a24f7",
      "metadata": {
        "id": "720a24f7",
        "outputId": "c53005ca-fc56-4584-fd28-c00f08c56b0d"
      },
      "outputs": [
        {
          "name": "stdout",
          "output_type": "stream",
          "text": [
            "\n",
            " x[:5]=  [0 1 2 3 4]\n"
          ]
        }
      ],
      "source": [
        "print(\"\\n x[:5]= \",x[:5])"
      ]
    },
    {
      "cell_type": "code",
      "execution_count": null,
      "id": "bee88dc6",
      "metadata": {
        "id": "bee88dc6",
        "outputId": "0edc4184-e054-40d5-ebf6-9cc3299ea10e"
      },
      "outputs": [
        {
          "name": "stdout",
          "output_type": "stream",
          "text": [
            "\n",
            " x[5:]=  [5 6 7 8 9]\n"
          ]
        }
      ],
      "source": [
        "print(\"\\n x[5:]= \",x[5:])"
      ]
    },
    {
      "cell_type": "code",
      "execution_count": null,
      "id": "d786e2fd",
      "metadata": {
        "id": "d786e2fd",
        "outputId": "72efc0be-9cf7-4f8b-f761-0a6be6fd18c5"
      },
      "outputs": [
        {
          "name": "stdout",
          "output_type": "stream",
          "text": [
            "\n",
            " x[4:7]=  [4 5 6]\n"
          ]
        }
      ],
      "source": [
        "print(\"\\n x[4:7]= \",x[4:7])"
      ]
    },
    {
      "cell_type": "code",
      "execution_count": null,
      "id": "73d40008",
      "metadata": {
        "id": "73d40008",
        "outputId": "0d75f4b7-498a-43d9-8446-3cc812460bae"
      },
      "outputs": [
        {
          "name": "stdout",
          "output_type": "stream",
          "text": [
            "\n",
            " x[::2]=  [0 2 4 6 8]\n"
          ]
        }
      ],
      "source": [
        "print(\"\\n x[::2]= \",x[::2])"
      ]
    },
    {
      "cell_type": "code",
      "execution_count": null,
      "id": "48f9f657",
      "metadata": {
        "id": "48f9f657",
        "outputId": "3272100e-d0c9-43e6-ad91-6a6957191e4f"
      },
      "outputs": [
        {
          "name": "stdout",
          "output_type": "stream",
          "text": [
            "\n",
            " x[1::2]=  [1 3 5 7 9]\n"
          ]
        }
      ],
      "source": [
        "print(\"\\n x[1::2]= \",x[1::2])"
      ]
    },
    {
      "cell_type": "code",
      "execution_count": null,
      "id": "00f05d81",
      "metadata": {
        "id": "00f05d81",
        "outputId": "5ef5d981-9623-470f-e70b-cadf46215351"
      },
      "outputs": [
        {
          "name": "stdout",
          "output_type": "stream",
          "text": [
            "\n",
            " x[::-1]=  [9 8 7 6 5 4 3 2 1 0]\n"
          ]
        }
      ],
      "source": [
        "print(\"\\n x[::-1]= \",x[::-1])"
      ]
    },
    {
      "cell_type": "code",
      "execution_count": null,
      "id": "12231092",
      "metadata": {
        "id": "12231092",
        "outputId": "90c26513-569c-416e-9cf1-271bde40d492"
      },
      "outputs": [
        {
          "name": "stdout",
          "output_type": "stream",
          "text": [
            "\n",
            " x[5::-2]=  [5 3 1]\n"
          ]
        }
      ],
      "source": [
        "print(\"\\n x[5::-2]= \",x[5::-2])"
      ]
    },
    {
      "cell_type": "code",
      "execution_count": null,
      "id": "6df654b6",
      "metadata": {
        "id": "6df654b6",
        "outputId": "dbe93ec5-0a32-492d-e109-ae72b96a00d9"
      },
      "outputs": [
        {
          "name": "stdout",
          "output_type": "stream",
          "text": [
            "[0 1 2 3 4 5 6 7 8 9]\n",
            "\n",
            " After broadcasting1 [0 1 2 3 4 2 6 7 8 9]\n",
            "\n",
            " After broadcasting2 [100   1 100   3 100   2 100   7 100   9]\n"
          ]
        }
      ],
      "source": [
        "x = np.arange(10)\n",
        "print(x)\n",
        "x[5] = 2\n",
        "print(\"\\n After broadcasting1\",x)\n",
        "x[::2] = 100\n",
        "print(\"\\n After broadcasting2\",x)\n"
      ]
    },
    {
      "cell_type": "code",
      "execution_count": null,
      "id": "7df7bc76",
      "metadata": {
        "id": "7df7bc76",
        "outputId": "afc97fd1-16f8-4329-8f0f-4fcc7d70e168"
      },
      "outputs": [
        {
          "name": "stdout",
          "output_type": "stream",
          "text": [
            "[12  5  2  4]\n"
          ]
        }
      ],
      "source": [
        "x2 = np.array([[12, 5, 2, 4],\n",
        "[ 7, 6, 8, 8], [ 1, 6, 7, 7]])\n",
        "print(x2[0])\n"
      ]
    },
    {
      "cell_type": "code",
      "execution_count": null,
      "id": "ea1bd064",
      "metadata": {
        "id": "ea1bd064",
        "outputId": "e49bd351-7096-4e20-e90e-37e4c99fbc5b"
      },
      "outputs": [
        {
          "name": "stdout",
          "output_type": "stream",
          "text": [
            "8\n"
          ]
        }
      ],
      "source": [
        "print(x2[1] [2])"
      ]
    },
    {
      "cell_type": "code",
      "execution_count": null,
      "id": "53653c22",
      "metadata": {
        "id": "53653c22",
        "outputId": "c3b662d2-0049-4f4d-be4f-e75f6d89daa8"
      },
      "outputs": [
        {
          "name": "stdout",
          "output_type": "stream",
          "text": [
            "7\n"
          ]
        }
      ],
      "source": [
        "print(x2 [2, -1])"
      ]
    },
    {
      "cell_type": "code",
      "execution_count": null,
      "id": "39d09199",
      "metadata": {
        "id": "39d09199",
        "outputId": "0713a332-987b-4f15-b9db-bbe8fca243dd"
      },
      "outputs": [
        {
          "name": "stdout",
          "output_type": "stream",
          "text": [
            "[12  5  2  4]\n"
          ]
        }
      ],
      "source": [
        "print(x2[0])"
      ]
    },
    {
      "cell_type": "code",
      "execution_count": null,
      "id": "db790ddf",
      "metadata": {
        "id": "db790ddf",
        "outputId": "5e4c052b-ae76-4de8-ce1a-2a3898689e3b"
      },
      "outputs": [
        {
          "name": "stdout",
          "output_type": "stream",
          "text": [
            "x2=  [[12  5  2  4]\n",
            " [ 7  6  8  8]\n",
            " [ 1  6  7  7]]\n"
          ]
        }
      ],
      "source": [
        "x2 = np.array([[12, 5, 2, 4], [7, 6, 8, 8], [1, 6, 7, 7]])\n",
        "print(\"x2= \",x2)\n"
      ]
    },
    {
      "cell_type": "code",
      "execution_count": null,
      "id": "aaec6701",
      "metadata": {
        "id": "aaec6701",
        "outputId": "32c9dd08-ffb1-41b2-b392-b9a553b0d8df"
      },
      "outputs": [
        {
          "name": "stdout",
          "output_type": "stream",
          "text": [
            "\n",
            " x2[:2, :3] = \n",
            " [[12  5  2]\n",
            " [ 7  6  8]]\n",
            "\n",
            " x2[:3, ::2]=\n",
            " [[12  2]\n",
            " [ 7  8]\n",
            " [ 1  7]]\n",
            "\n",
            " x2[::-1,::-1]= \n",
            " [[ 7  7  6  1]\n",
            " [ 8  8  6  7]\n",
            " [ 4  2  5 12]]\n",
            "\n",
            " x2[::-1]= \n",
            " [[ 1  6  7  7]\n",
            " [ 7  6  8  8]\n",
            " [12  5  2  4]]\n"
          ]
        }
      ],
      "source": [
        "print(\"\\n x2[:2, :3] = \\n\",x2[:2, :3])\n",
        "print(\"\\n x2[:3, ::2]=\\n\",x2[:3, ::2])\n",
        "print(\"\\n x2[::-1,::-1]= \\n\",x2[::-1, ::-1])\n",
        "print(\"\\n x2[::-1]= \\n\", x2 [::-1])"
      ]
    },
    {
      "cell_type": "code",
      "execution_count": null,
      "id": "715d4455",
      "metadata": {
        "id": "715d4455",
        "outputId": "9d84af11-e51d-44b5-fd59-63982acfaea1"
      },
      "outputs": [
        {
          "name": "stdout",
          "output_type": "stream",
          "text": [
            "a= \n",
            " [[ 0  1  2  3]\n",
            " [ 4  5  6  7]\n",
            " [ 8  9 10 11]]\n",
            "b= \n",
            " [[False False False False]\n",
            " [False  True  True  True]\n",
            " [ True  True  True  True]]\n",
            "a[b]= \n",
            " [ 5  6  7  8  9 10 11]\n",
            "a= \n",
            " [[0 1 2 3]\n",
            " [4 1 1 1]\n",
            " [1 1 1 1]]\n"
          ]
        }
      ],
      "source": [
        "import numpy as np\n",
        "a = np.arange(12). reshape (3,4)\n",
        "print(\"a= \\n\",a)\n",
        "b = a > 4\n",
        "print(\"b= \\n\", b)\n",
        "print(\"a[b]= \\n\",a[b])\n",
        "a [b] = 1\n",
        "print(\"a= \\n\",a)"
      ]
    },
    {
      "cell_type": "code",
      "execution_count": 6,
      "id": "944f7eb4",
      "metadata": {
        "colab": {
          "base_uri": "https://localhost:8080/"
        },
        "id": "944f7eb4",
        "outputId": "262f9a17-07d0-4fa8-d055-b8e78030bb66"
      },
      "outputs": [
        {
          "output_type": "stream",
          "name": "stdout",
          "text": [
            "['Bob' 'Joe' 'Will' 'Bob' 'Will' 'Joe' 'Joe']\n",
            "data= \n",
            " [[ 0  1  2  3]\n",
            " [ 4  5  6  7]\n",
            " [ 8  9 10 11]\n",
            " [12 13 14 15]\n",
            " [16 17 18 19]\n",
            " [20 21 22 23]\n",
            " [24 25 26 27]]\n",
            "names bool= \n",
            " [ True False False  True False False False]\n",
            "names == 'Bob' \n",
            " [[ 0  1  2  3]\n",
            " [12 13 14 15]]\n",
            "names == 'Bob',2: \n",
            " [[ 2  3]\n",
            " [14 15]]\n",
            "names == 'Bob',3 \n",
            " [ 3 15]\n"
          ]
        }
      ],
      "source": [
        "names = np.array(['Bob', 'Joe', 'Will', 'Bob', 'Will', 'Joe', 'Joe'])\n",
        "data = np.arange(28). reshape(7, 4)\n",
        "print(names)\n",
        "print(\"data= \\n\", data)\n",
        "print(\"names bool= \\n\", names == 'Bob')\n",
        "print(\"names == 'Bob' \\n\", data [names == 'Bob'])\n",
        "print(\"names == 'Bob',2: \\n\", data[names =='Bob', 2:])\n",
        "print(\"names == 'Bob',3 \\n\", data[names == 'Bob', 3])\n",
        ""
      ]
    },
    {
      "cell_type": "code",
      "execution_count": 5,
      "id": "2e05e02f",
      "metadata": {
        "colab": {
          "base_uri": "https://localhost:8080/"
        },
        "id": "2e05e02f",
        "outputId": "4afa2098-8e0b-4967-b68b-38d431319d53"
      },
      "outputs": [
        {
          "output_type": "stream",
          "name": "stdout",
          "text": [
            "arr= \n",
            " [[ 0  1  2  3]\n",
            " [ 4  5  6  7]\n",
            " [ 8  9 10 11]\n",
            " [12 13 14 15]\n",
            " [16 17 18 19]\n",
            " [20 21 22 23]\n",
            " [24 25 26 27]\n",
            " [28 29 30 31]]\n",
            "\n",
            "arr[[1, 5, 7, 2]]= \n",
            " [[ 4  5  6  7]\n",
            " [20 21 22 23]\n",
            " [28 29 30 31]\n",
            " [ 8  9 10 11]]\n",
            "\n",
            "arr[[1, 5, 7, 2], [0, 3, 1, 2]]= \n",
            " [ 4 23 29 10]\n"
          ]
        }
      ],
      "source": [
        "import numpy as np\n",
        "arr = np.arange(32).reshape(8, 4)\n",
        "print(\"arr= \\n\",arr)\n",
        "print(\"\\narr[[1, 5, 7, 2]]= \\n\", arr[[1, 5, 7, 2]])\n",
        "print(\"\\narr[[1, 5, 7, 2], [0, 3, 1, 2]]= \\n\", arr[[1, 5, 7, 2], [0, 3, 1, 2]])"
      ]
    },
    {
      "cell_type": "code",
      "execution_count": 7,
      "id": "c3cdaf1b",
      "metadata": {
        "colab": {
          "base_uri": "https://localhost:8080/"
        },
        "id": "c3cdaf1b",
        "outputId": "d8749af6-fb41-4c0f-9ae6-76bd53730bcd"
      },
      "outputs": [
        {
          "output_type": "stream",
          "name": "stdout",
          "text": [
            "[[ 0  1  2  3]\n",
            " [ 4  5  6  7]\n",
            " [ 8  9 10 11]]\n",
            "Transpose using .T\n",
            "[[ 0  4  8]\n",
            " [ 1  5  9]\n",
            " [ 2  6 10]\n",
            " [ 3  7 11]]\n",
            "Transpose using the transpose() function\n",
            "[[ 0  4  8]\n",
            " [ 1  5  9]\n",
            " [ 2  6 10]\n",
            " [ 3  7 11]]\n"
          ]
        }
      ],
      "source": [
        "import numpy as np\n",
        "arr = np.arange(12).reshape((3, 4))\n",
        "print(arr)\n",
        "print(\"Transpose using .T\")\n",
        "print(arr.T)\n",
        "print(\"Transpose using the transpose() function\")\n",
        "print(np.transpose(arr))\n"
      ]
    },
    {
      "cell_type": "code",
      "execution_count": 8,
      "id": "9efa0600",
      "metadata": {
        "colab": {
          "base_uri": "https://localhost:8080/"
        },
        "id": "9efa0600",
        "outputId": "d4a5bcb3-db7c-4433-a178-b82dab22b0f2"
      },
      "outputs": [
        {
          "output_type": "stream",
          "name": "stdout",
          "text": [
            "[[ 0  4  8]\n",
            " [ 1  5  9]\n",
            " [ 2  6 10]\n",
            " [ 3  7 11]]\n",
            "[[ 0  1  2  3]\n",
            " [ 4  5  6  7]\n",
            " [ 8  9 10 11]]\n"
          ]
        }
      ],
      "source": [
        "arr1=np.transpose(arr, (1, 0))\n",
        "print(arr1)\n",
        "arr2=np.transpose(arr, (0,1))\n",
        "print(arr2)"
      ]
    },
    {
      "cell_type": "code",
      "source": [
        "import numpy as np\n",
        "arr = np.arange(12).reshape((3, 4))\n",
        "print(\"Dot product of arr and arr2:\")\n",
        "print(np.dot(arr, arr.T))"
      ],
      "metadata": {
        "colab": {
          "base_uri": "https://localhost:8080/"
        },
        "id": "jGSmuvZd0htl",
        "outputId": "5c7b2716-d071-4022-aee1-6b463932c4a2"
      },
      "id": "jGSmuvZd0htl",
      "execution_count": 12,
      "outputs": [
        {
          "output_type": "stream",
          "name": "stdout",
          "text": [
            "Dot product of arr and arr2:\n",
            "[[ 14  38  62]\n",
            " [ 38 126 214]\n",
            " [ 62 214 366]]\n"
          ]
        }
      ]
    },
    {
      "cell_type": "code",
      "source": [
        "arr = np.arange(12).reshape((3, 4))\n",
        "print(arr)\n",
        "print(\"Swap axes 0 and 1:\")\n",
        "print(np.swapaxes (arr, 0, 1))\n"
      ],
      "metadata": {
        "colab": {
          "base_uri": "https://localhost:8080/"
        },
        "id": "x4WchLBx1lZM",
        "outputId": "aa49a437-e1bf-43cf-f6b9-1b2bc9059f9d"
      },
      "id": "x4WchLBx1lZM",
      "execution_count": 13,
      "outputs": [
        {
          "output_type": "stream",
          "name": "stdout",
          "text": [
            "[[ 0  1  2  3]\n",
            " [ 4  5  6  7]\n",
            " [ 8  9 10 11]]\n",
            "Swap axes 0 and 1:\n",
            "[[ 0  4  8]\n",
            " [ 1  5  9]\n",
            " [ 2  6 10]\n",
            " [ 3  7 11]]\n"
          ]
        }
      ]
    },
    {
      "cell_type": "code",
      "source": [
        "import numpy as np\n",
        "arr1 = np.array([[1, 2],\n",
        "[3, 4]])\n",
        "arr2 = np.array([[5, 6],\n",
        "[7, 8]])\n",
        "result = np.multiply(arr1, arr2)\n",
        "print(\"Result of element-wise multiplication:\")\n",
        "print(result)\n",
        "result = np.matmul (arr1, arr2)\n",
        "print(\"Result of matrix multiplication:\")\n",
        "print(result)\n",
        "\n"
      ],
      "metadata": {
        "colab": {
          "base_uri": "https://localhost:8080/"
        },
        "id": "hdGeIuY11ltM",
        "outputId": "a5e328f9-55ee-4c02-8733-9a4a6d8faba8"
      },
      "id": "hdGeIuY11ltM",
      "execution_count": 14,
      "outputs": [
        {
          "output_type": "stream",
          "name": "stdout",
          "text": [
            "Result of element-wise multiplication:\n",
            "[[ 5 12]\n",
            " [21 32]]\n",
            "Result of matrix multiplication:\n",
            "[[19 22]\n",
            " [43 50]]\n"
          ]
        }
      ]
    },
    {
      "cell_type": "code",
      "source": [
        "result = np.dot (arr1, arr2)\n",
        "print(\"Result of matrix multiplication:\")\n",
        "print(result)\n"
      ],
      "metadata": {
        "colab": {
          "base_uri": "https://localhost:8080/"
        },
        "id": "bG2jV5In1l8U",
        "outputId": "8ff196e9-8db4-449f-a138-52b51e488891"
      },
      "id": "bG2jV5In1l8U",
      "execution_count": 15,
      "outputs": [
        {
          "output_type": "stream",
          "name": "stdout",
          "text": [
            "Result of matrix multiplication:\n",
            "[[19 22]\n",
            " [43 50]]\n"
          ]
        }
      ]
    },
    {
      "cell_type": "code",
      "source": [],
      "metadata": {
        "id": "z67IvTuT2YLE"
      },
      "id": "z67IvTuT2YLE",
      "execution_count": null,
      "outputs": []
    },
    {
      "cell_type": "code",
      "source": [],
      "metadata": {
        "id": "5F-xs9Xw2Yc8"
      },
      "id": "5F-xs9Xw2Yc8",
      "execution_count": null,
      "outputs": []
    },
    {
      "cell_type": "code",
      "source": [],
      "metadata": {
        "id": "YWKTytfy2Ytc"
      },
      "id": "YWKTytfy2Ytc",
      "execution_count": null,
      "outputs": []
    }
  ],
  "metadata": {
    "kernelspec": {
      "display_name": "Python 3 (ipykernel)",
      "language": "python",
      "name": "python3"
    },
    "language_info": {
      "codemirror_mode": {
        "name": "ipython",
        "version": 3
      },
      "file_extension": ".py",
      "mimetype": "text/x-python",
      "name": "python",
      "nbconvert_exporter": "python",
      "pygments_lexer": "ipython3",
      "version": "3.9.12"
    },
    "colab": {
      "provenance": []
    }
  },
  "nbformat": 4,
  "nbformat_minor": 5
}