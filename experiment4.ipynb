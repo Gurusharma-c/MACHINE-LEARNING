{
  "nbformat": 4,
  "nbformat_minor": 0,
  "metadata": {
    "colab": {
      "provenance": []
    },
    "kernelspec": {
      "name": "python3",
      "display_name": "Python 3"
    },
    "language_info": {
      "name": "python"
    }
  },
  "cells": [
    {
      "cell_type": "code",
      "execution_count": null,
      "metadata": {
        "id": "6GegwFOBvVtc"
      },
      "outputs": [],
      "source": [
        "import numpy as np\n",
        "X = np.array([[0, 0], [0, 1], [1, 0], [1, 1]])\n",
        "Y = np.array([0, 0, 0, 1])\n",
        "weights = np.array([0.3, -0.2])\n",
        "theta = 0.4\n",
        "bias = -theta\n",
        "eta = 0.2"
      ]
    },
    {
      "cell_type": "code",
      "source": [
        "def activation(net_input):\n",
        "    return 1 if net_input >= 0 else 0"
      ],
      "metadata": {
        "id": "lEwtjGJjvXEV"
      },
      "execution_count": null,
      "outputs": []
    },
    {
      "cell_type": "code",
      "source": [
        "epochs = 0\n",
        "while True:\n",
        "    error_occurred = False\n",
        "    print(f\"\\nEpoch {epochs+1}\")\n",
        "    for i in range(len(X)):\n",
        "\n",
        "        net_input = np.dot(X[i], weights) + bias\n",
        "\n",
        "        output = activation(net_input)\n",
        "\n",
        "        error = Y[i] - output\n",
        "\n",
        "\n",
        "        if error != 0:\n",
        "            error_occurred = True\n",
        "            print(f\"Sample {X[i]}: Error = {error}, Updating weights...\")\n",
        "            weights = weights + eta * error * X[i]\n",
        "            bias = bias + eta * error\n",
        "        else:\n",
        "            print(f\"Sample {X[i]}: No change\")\n",
        "\n",
        "    epochs += 1\n",
        "    if not error_occurred:\n",
        "        break"
      ],
      "metadata": {
        "colab": {
          "base_uri": "https://localhost:8080/"
        },
        "id": "i27qDgnkvXA6",
        "outputId": "6616dd63-d79f-4a56-cb3b-997db46a0673"
      },
      "execution_count": null,
      "outputs": [
        {
          "output_type": "stream",
          "name": "stdout",
          "text": [
            "\n",
            "Epoch 1\n",
            "Sample [0 0]: No change\n",
            "Sample [0 1]: No change\n",
            "Sample [1 0]: No change\n",
            "Sample [1 1]: Error = 1, Updating weights...\n",
            "\n",
            "Epoch 2\n",
            "Sample [0 0]: No change\n",
            "Sample [0 1]: No change\n",
            "Sample [1 0]: Error = -1, Updating weights...\n",
            "Sample [1 1]: Error = 1, Updating weights...\n",
            "\n",
            "Epoch 3\n",
            "Sample [0 0]: No change\n",
            "Sample [0 1]: Error = -1, Updating weights...\n",
            "Sample [1 0]: Error = -1, Updating weights...\n",
            "Sample [1 1]: Error = 1, Updating weights...\n",
            "\n",
            "Epoch 4\n",
            "Sample [0 0]: No change\n",
            "Sample [0 1]: No change\n",
            "Sample [1 0]: Error = -1, Updating weights...\n",
            "Sample [1 1]: Error = 1, Updating weights...\n",
            "\n",
            "Epoch 5\n",
            "Sample [0 0]: No change\n",
            "Sample [0 1]: No change\n",
            "Sample [1 0]: Error = -1, Updating weights...\n",
            "Sample [1 1]: No change\n",
            "\n",
            "Epoch 6\n",
            "Sample [0 0]: No change\n",
            "Sample [0 1]: No change\n",
            "Sample [1 0]: No change\n",
            "Sample [1 1]: No change\n"
          ]
        }
      ]
    },
    {
      "cell_type": "code",
      "source": [
        "print(\"\\nTraining complete.\")\n",
        "print(f\"Final weights: {weights}\")\n",
        "print(f\"Final bias: {bias}\")"
      ],
      "metadata": {
        "colab": {
          "base_uri": "https://localhost:8080/"
        },
        "id": "A6fJI0X4vW-N",
        "outputId": "3d8f4507-4598-483f-cfac-5c0d3b27ef12"
      },
      "execution_count": null,
      "outputs": [
        {
          "output_type": "stream",
          "name": "stdout",
          "text": [
            "\n",
            "Training complete.\n",
            "Final weights: [0.3 0.4]\n",
            "Final bias: -0.6000000000000001\n"
          ]
        }
      ]
    },
    {
      "cell_type": "code",
      "source": [],
      "metadata": {
        "id": "983_Qs70vW7w"
      },
      "execution_count": null,
      "outputs": []
    }
  ]
}